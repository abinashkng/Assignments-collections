{
  "nbformat": 4,
  "nbformat_minor": 0,
  "metadata": {
    "colab": {
      "provenance": [],
      "authorship_tag": "ABX9TyM4aEbqh3sr16x5ci3xVJfZ",
      "include_colab_link": true
    },
    "kernelspec": {
      "name": "python3",
      "display_name": "Python 3"
    },
    "language_info": {
      "name": "python"
    }
  },
  "cells": [
    {
      "cell_type": "markdown",
      "metadata": {
        "id": "view-in-github",
        "colab_type": "text"
      },
      "source": [
        "<a href=\"https://colab.research.google.com/github/abinashkng/Assignments-collections/blob/main/Capguide_Assignment.ipynb\" target=\"_parent\"><img src=\"https://colab.research.google.com/assets/colab-badge.svg\" alt=\"Open In Colab\"/></a>"
      ]
    },
    {
      "cell_type": "markdown",
      "source": [
        "#Importing library which is not available"
      ],
      "metadata": {
        "id": "imxjsmDlkhIV"
      }
    },
    {
      "cell_type": "code",
      "execution_count": 1,
      "metadata": {
        "colab": {
          "base_uri": "https://localhost:8080/"
        },
        "id": "bZVbofTMkQ44",
        "outputId": "595752f8-2081-485a-e35f-3ade5dda84c5"
      },
      "outputs": [
        {
          "output_type": "stream",
          "name": "stdout",
          "text": [
            "Looking in indexes: https://pypi.org/simple, https://us-python.pkg.dev/colab-wheels/public/simple/\n",
            "Collecting tabula-py\n",
            "  Downloading tabula_py-2.7.0-py3-none-any.whl (12.0 MB)\n",
            "\u001b[2K     \u001b[90m━━━━━━━━━━━━━━━━━━━━━━━━━━━━━━━━━━━━━━━━\u001b[0m \u001b[32m12.0/12.0 MB\u001b[0m \u001b[31m81.4 MB/s\u001b[0m eta \u001b[36m0:00:00\u001b[0m\n",
            "\u001b[?25hCollecting distro\n",
            "  Downloading distro-1.8.0-py3-none-any.whl (20 kB)\n",
            "Requirement already satisfied: numpy in /usr/local/lib/python3.9/dist-packages (from tabula-py) (1.22.4)\n",
            "Requirement already satisfied: pandas>=0.25.3 in /usr/local/lib/python3.9/dist-packages (from tabula-py) (1.3.5)\n",
            "Requirement already satisfied: python-dateutil>=2.7.3 in /usr/local/lib/python3.9/dist-packages (from pandas>=0.25.3->tabula-py) (2.8.2)\n",
            "Requirement already satisfied: pytz>=2017.3 in /usr/local/lib/python3.9/dist-packages (from pandas>=0.25.3->tabula-py) (2022.7.1)\n",
            "Requirement already satisfied: six>=1.5 in /usr/local/lib/python3.9/dist-packages (from python-dateutil>=2.7.3->pandas>=0.25.3->tabula-py) (1.15.0)\n",
            "Installing collected packages: distro, tabula-py\n",
            "Successfully installed distro-1.8.0 tabula-py-2.7.0\n"
          ]
        }
      ],
      "source": [
        "pip install tabula-py\n"
      ]
    },
    {
      "cell_type": "markdown",
      "source": [
        "#Now Importing required library in colab notebook"
      ],
      "metadata": {
        "id": "txnvKRtwlPrb"
      }
    },
    {
      "cell_type": "code",
      "source": [
        "import tabula as tb\n"
      ],
      "metadata": {
        "id": "Lh-yr8lklDfV"
      },
      "execution_count": 7,
      "outputs": []
    },
    {
      "cell_type": "markdown",
      "source": [
        "#File loading...."
      ],
      "metadata": {
        "id": "wJIsYewilsX4"
      }
    },
    {
      "cell_type": "code",
      "source": [
        "tables = tb.read_pdf('/content/FINAL_RESULT_ROUND_2_UG_2022.pdf', pages='all')\n"
      ],
      "metadata": {
        "colab": {
          "base_uri": "https://localhost:8080/"
        },
        "id": "v7NFiCYSlz_U",
        "outputId": "21eedf6e-a46f-4b8f-d275-9deaf368e463"
      },
      "execution_count": 8,
      "outputs": [
        {
          "output_type": "stream",
          "name": "stderr",
          "text": [
            "WARNING:tabula.io:Got stderr: Mar 12, 2023 1:56:41 PM org.apache.pdfbox.pdmodel.font.FileSystemFontProvider loadDiskCache\n",
            "WARNING: New fonts found, font cache will be re-built\n",
            "Mar 12, 2023 1:56:41 PM org.apache.pdfbox.pdmodel.font.FileSystemFontProvider <init>\n",
            "WARNING: Building on-disk font cache, this may take a while\n",
            "Mar 12, 2023 1:56:41 PM org.apache.pdfbox.pdmodel.font.FileSystemFontProvider <init>\n",
            "WARNING: Finished building on-disk font cache, found 17 fonts\n",
            "Mar 12, 2023 1:56:41 PM org.apache.pdfbox.pdmodel.font.PDType1Font <init>\n",
            "WARNING: Using fallback font LiberationSans for base font Symbol\n",
            "Mar 12, 2023 1:56:41 PM org.apache.pdfbox.pdmodel.font.PDType1Font <init>\n",
            "WARNING: Using fallback font LiberationSans for base font ZapfDingbats\n",
            "\n"
          ]
        }
      ]
    },
    {
      "cell_type": "markdown",
      "source": [
        "#Doing For loop for every tables present as page wise in the file"
      ],
      "metadata": {
        "id": "16mlabwMFAgU"
      }
    },
    {
      "cell_type": "code",
      "source": [
        "for i in range(len(tables)):\n",
        "    # Looping each table\n",
        "    table = tables[i]\n"
      ],
      "metadata": {
        "id": "v9j2_3M0D2bU"
      },
      "execution_count": 9,
      "outputs": []
    },
    {
      "cell_type": "markdown",
      "source": [
        "#Converting Pdf file to Csv file"
      ],
      "metadata": {
        "id": "wxP8g-K0HPIF"
      }
    },
    {
      "cell_type": "code",
      "source": [
        " # Converting the Pdf file to CSV file\n",
        "table.to_csv(f'table_{i}.csv', index=False)"
      ],
      "metadata": {
        "id": "gZhERgRhHXj6"
      },
      "execution_count": 11,
      "outputs": []
    }
  ]
}