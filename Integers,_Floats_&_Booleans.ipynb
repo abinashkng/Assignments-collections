{
  "nbformat": 4,
  "nbformat_minor": 0,
  "metadata": {
    "kernelspec": {
      "display_name": "Python 3",
      "language": "python",
      "name": "python3"
    },
    "language_info": {
      "codemirror_mode": {
        "name": "ipython",
        "version": 3
      },
      "file_extension": ".py",
      "mimetype": "text/x-python",
      "name": "python",
      "nbconvert_exporter": "python",
      "pygments_lexer": "ipython3",
      "version": "3.7.4"
    },
    "colab": {
      "name": "Integers, Floats & Booleans.ipynb",
      "provenance": [],
      "collapsed_sections": [
        "gW5YEnarJbPO",
        "1--OZJQAJbPW",
        "eo0mqrbOJbPb",
        "tRtsrmQoJbPt",
        "XTNlwY9rJbQG",
        "zXobe57HJbQM",
        "JCs_Qrt-JbQS",
        "HXhCSJvBJbQY",
        "HHQGVtfyJbQe",
        "9A0hrb1EJbQk"
      ],
      "include_colab_link": true
    }
  },
  "cells": [
    {
      "cell_type": "markdown",
      "metadata": {
        "id": "view-in-github",
        "colab_type": "text"
      },
      "source": [
        "<a href=\"https://colab.research.google.com/github/abinashkng/Assignments-collections/blob/main/Integers%2C_Floats_%26_Booleans.ipynb\" target=\"_parent\"><img src=\"https://colab.research.google.com/assets/colab-badge.svg\" alt=\"Open In Colab\"/></a>"
      ]
    },
    {
      "cell_type": "markdown",
      "metadata": {
        "id": "UhmgnA67JbOo"
      },
      "source": [
        "## Different data types we will encounter in Python\n",
        "* ### <u>Numeric</u>  - Numeric variables take values which are numbers like 9, 3.14, 0, Inf\n",
        "\n",
        "\n",
        "* ### <u>String </u>  - String variables are used to store textual information\n",
        "\n",
        "\n",
        "* ### <u>Boolean</u>  - Boolean variables have two modes either True or False. A definite judge of statements!\n",
        "\n",
        "\n",
        "* ### <u>Datetime </u> - These variables are used to store date and time values such as 2020-08-01 12:23:54"
      ]
    },
    {
      "cell_type": "markdown",
      "metadata": {
        "id": "I9Fwf5ooJbOq"
      },
      "source": [
        "# <u> Integers and Floats </u>"
      ]
    },
    {
      "cell_type": "markdown",
      "metadata": {
        "id": "Mfy5IszoJbOr"
      },
      "source": [
        "## Basic Arithmetic"
      ]
    },
    {
      "cell_type": "code",
      "metadata": {
        "id": "sn4BtpEIJbOr",
        "colab": {
          "base_uri": "https://localhost:8080/",
          "height": 34
        },
        "outputId": "d8cab123-7e5d-48d2-e7be-6371d1d89fc0"
      },
      "source": [
        "# Addition\n",
        "2+1"
      ],
      "execution_count": null,
      "outputs": [
        {
          "output_type": "execute_result",
          "data": {
            "text/plain": [
              "3"
            ]
          },
          "metadata": {
            "tags": []
          },
          "execution_count": 2
        }
      ]
    },
    {
      "cell_type": "code",
      "metadata": {
        "id": "oQYLI1w4JbOx",
        "colab": {
          "base_uri": "https://localhost:8080/",
          "height": 34
        },
        "outputId": "042ef49e-e7b6-49c5-bc8b-0f608635c185"
      },
      "source": [
        "# Subtraction\n",
        "2-5"
      ],
      "execution_count": null,
      "outputs": [
        {
          "output_type": "execute_result",
          "data": {
            "text/plain": [
              "-3"
            ]
          },
          "metadata": {
            "tags": []
          },
          "execution_count": 4
        }
      ]
    },
    {
      "cell_type": "code",
      "metadata": {
        "id": "ZRun8NmAJbO0",
        "colab": {
          "base_uri": "https://localhost:8080/",
          "height": 34
        },
        "outputId": "9e657f3d-6eba-4e67-a429-e3a316604806"
      },
      "source": [
        "# Multiplication\n",
        "2*2"
      ],
      "execution_count": null,
      "outputs": [
        {
          "output_type": "execute_result",
          "data": {
            "text/plain": [
              "4"
            ]
          },
          "metadata": {
            "tags": []
          },
          "execution_count": 5
        }
      ]
    },
    {
      "cell_type": "code",
      "metadata": {
        "id": "etEpKlXqJbO2",
        "colab": {
          "base_uri": "https://localhost:8080/",
          "height": 34
        },
        "outputId": "5a4e32fd-cfed-46a5-f893-36fd459578da"
      },
      "source": [
        "# Division\n",
        "3/2"
      ],
      "execution_count": null,
      "outputs": [
        {
          "output_type": "execute_result",
          "data": {
            "text/plain": [
              "1.5"
            ]
          },
          "metadata": {
            "tags": []
          },
          "execution_count": 6
        }
      ]
    },
    {
      "cell_type": "code",
      "metadata": {
        "id": "_6rPJxI6JbO5",
        "colab": {
          "base_uri": "https://localhost:8080/",
          "height": 34
        },
        "outputId": "e146051d-58d1-40be-cde5-eae19cf9ebba"
      },
      "source": [
        "# Floor Division\n",
        "7//2"
      ],
      "execution_count": null,
      "outputs": [
        {
          "output_type": "execute_result",
          "data": {
            "text/plain": [
              "3"
            ]
          },
          "metadata": {
            "tags": []
          },
          "execution_count": 9
        }
      ]
    },
    {
      "cell_type": "code",
      "metadata": {
        "id": "-nwZ9QhfJbO8",
        "colab": {
          "base_uri": "https://localhost:8080/",
          "height": 34
        },
        "outputId": "d5333f83-f108-4845-ba40-50bfe06747f1"
      },
      "source": [
        "# Exponentiation\n",
        "2**5"
      ],
      "execution_count": null,
      "outputs": [
        {
          "output_type": "execute_result",
          "data": {
            "text/plain": [
              "32"
            ]
          },
          "metadata": {
            "tags": []
          },
          "execution_count": 11
        }
      ]
    },
    {
      "cell_type": "code",
      "metadata": {
        "id": "JuBKbD6rJbO-",
        "colab": {
          "base_uri": "https://localhost:8080/",
          "height": 34
        },
        "outputId": "3012d49a-ae22-4f65-b85f-9cd1fa7f6c84"
      },
      "source": [
        "# Modulus\n",
        "5%6"
      ],
      "execution_count": null,
      "outputs": [
        {
          "output_type": "execute_result",
          "data": {
            "text/plain": [
              "5"
            ]
          },
          "metadata": {
            "tags": []
          },
          "execution_count": 14
        }
      ]
    },
    {
      "cell_type": "code",
      "metadata": {
        "id": "GwB4UnlJJbPD",
        "colab": {
          "base_uri": "https://localhost:8080/",
          "height": 34
        },
        "outputId": "fafb62bd-8b56-47f4-d0d7-17e2ccf7f13c"
      },
      "source": [
        "# Order of Operations followed in Python\n",
        "2 + 10 * 10 + 3"
      ],
      "execution_count": null,
      "outputs": [
        {
          "output_type": "execute_result",
          "data": {
            "text/plain": [
              "105"
            ]
          },
          "metadata": {
            "tags": []
          },
          "execution_count": 15
        }
      ]
    },
    {
      "cell_type": "code",
      "metadata": {
        "id": "tL0-wPcvJbPF",
        "colab": {
          "base_uri": "https://localhost:8080/",
          "height": 34
        },
        "outputId": "a6cc53b0-6177-4699-8e81-08def8534ecc"
      },
      "source": [
        "2+ 10* (10+3)"
      ],
      "execution_count": null,
      "outputs": [
        {
          "output_type": "execute_result",
          "data": {
            "text/plain": [
              "132"
            ]
          },
          "metadata": {
            "tags": []
          },
          "execution_count": 16
        }
      ]
    },
    {
      "cell_type": "code",
      "metadata": {
        "id": "Zx1mkJYQJbPJ",
        "colab": {
          "base_uri": "https://localhost:8080/",
          "height": 34
        },
        "outputId": "d819d253-a304-4e55-c880-cc601e269c4f"
      },
      "source": [
        "# Scientific Notation for representing large numbers\n",
        "4E6"
      ],
      "execution_count": null,
      "outputs": [
        {
          "output_type": "execute_result",
          "data": {
            "text/plain": [
              "4000000.0"
            ]
          },
          "metadata": {
            "tags": []
          },
          "execution_count": 18
        }
      ]
    },
    {
      "cell_type": "markdown",
      "metadata": {
        "id": "SAG3VykOJbPM"
      },
      "source": [
        "## Let's talk about numbers!\n",
        "\n",
        "* A lot many different types of numbers are supported in Python like integers (int type), real numbers (float type), complex numbers. We will mostly use integer and floating point numbers.\n",
        "\n",
        "\n",
        "* Integers are just whole numbers, positive or negative. For example: 2 and -2 are examples of integers.\n",
        "\n",
        "\n",
        "* Floating point numbers in Python are notable because they have a decimal point in them, or use an exponential (E) to define the number. For example 2.0 and -2.1 are examples of floating point numbers. 4E2 (4 times 10 to the power of 2) is also an example of a floating point number in Python.\n",
        "\n",
        "\n",
        "* In computing, floating-point arithmetic is arithmetic using formulaic representation of real numbers as an approximation to support a trade-off between range and precision. You can always control the number of digits coming after the decimal, hence they are called floating-point numbers"
      ]
    },
    {
      "cell_type": "markdown",
      "metadata": {
        "id": "mdf-bQxnJbPN"
      },
      "source": [
        "### The table below summarises the two numeric data types, Integers and Floats:\n",
        "<table>\n",
        "<tr>\n",
        "    <th>Examples</th>\n",
        "    <th>Number \"Type\"</th>\n",
        "</tr>\n",
        "\n",
        "<tr>\n",
        "    <td>1,2,-5,1000</td>\n",
        "    <td>Integers</td>\n",
        "</tr>\n",
        "\n",
        "<tr>\n",
        "    <td>1.2,-0.5,2e2,3E2</td>\n",
        "    <td>Floating-point numbers</td>\n",
        "</tr>\n",
        " </table>"
      ]
    },
    {
      "cell_type": "markdown",
      "metadata": {
        "id": "rU046YbcJbPN"
      },
      "source": [
        "## <u> What is a Variable? <u/>"
      ]
    },
    {
      "cell_type": "markdown",
      "metadata": {
        "id": "gW5YEnarJbPO"
      },
      "source": [
        "###  VARIABLES are entities which help us store information and retrieve it later.\n",
        "\n",
        " * A variable with a fixed name can store information of nature like numeric, textual, boolean etc.\n",
        "\n",
        "\n",
        " * A Python variable is a reserved memory location to store values. In other words, a variable in a python program gives data to the computer for processing.\n",
        "\n",
        "\n",
        " * The type of data contained in a variable can be changed at user's will."
      ]
    },
    {
      "cell_type": "code",
      "metadata": {
        "id": "GMzBISF_JbPO"
      },
      "source": [
        "# You can store numbers in variables.\n",
        "# The standard rule is you write the variable name followed by = sign and the value it will take\n",
        "\n",
        "x=5"
      ],
      "execution_count": null,
      "outputs": []
    },
    {
      "cell_type": "code",
      "metadata": {
        "id": "sfHKamM3JbPR",
        "colab": {
          "base_uri": "https://localhost:8080/",
          "height": 34
        },
        "outputId": "c38a5251-0c6f-469d-c7dd-278c4fe778fe"
      },
      "source": [
        "x"
      ],
      "execution_count": null,
      "outputs": [
        {
          "output_type": "execute_result",
          "data": {
            "text/plain": [
              "5"
            ]
          },
          "metadata": {
            "tags": []
          },
          "execution_count": 28
        }
      ]
    },
    {
      "cell_type": "code",
      "metadata": {
        "id": "UedV9GDlJbPU",
        "colab": {
          "base_uri": "https://localhost:8080/",
          "height": 34
        },
        "outputId": "d9884251-c507-4a98-a1ae-7da7c73e4032"
      },
      "source": [
        "y=6.4\n",
        "y"
      ],
      "execution_count": null,
      "outputs": [
        {
          "output_type": "execute_result",
          "data": {
            "text/plain": [
              "6.4"
            ]
          },
          "metadata": {
            "tags": []
          },
          "execution_count": 34
        }
      ]
    },
    {
      "cell_type": "code",
      "metadata": {
        "id": "OcUpyTY2Z4Fn",
        "colab": {
          "base_uri": "https://localhost:8080/",
          "height": 34
        },
        "outputId": "26c91e77-9d6d-4ea9-9a18-605e4e998ab2"
      },
      "source": [
        "print(y)"
      ],
      "execution_count": null,
      "outputs": [
        {
          "output_type": "stream",
          "text": [
            "4\n"
          ],
          "name": "stdout"
        }
      ]
    },
    {
      "cell_type": "markdown",
      "metadata": {
        "id": "1--OZJQAJbPW"
      },
      "source": [
        "### Basic Arithmetic operations we can do on x and y. Later we will be doing operations on thousands of such numbers in one go!"
      ]
    },
    {
      "cell_type": "code",
      "metadata": {
        "id": "BNWS99YXJbPX",
        "colab": {
          "base_uri": "https://localhost:8080/",
          "height": 34
        },
        "outputId": "783ce05d-7aac-4083-8216-9d4b1fed01f7"
      },
      "source": [
        "# Addition\n",
        "z = x+y\n",
        "\n",
        "print(z)"
      ],
      "execution_count": null,
      "outputs": [
        {
          "output_type": "stream",
          "text": [
            "11\n"
          ],
          "name": "stdout"
        }
      ]
    },
    {
      "cell_type": "code",
      "metadata": {
        "id": "zusqZqZTJbPZ",
        "outputId": "8b842bc8-cda8-44dc-a030-f6f616f09666"
      },
      "source": [
        "# Printing the memory address the variable z occupies\n",
        "print(hex(id(z)))"
      ],
      "execution_count": null,
      "outputs": [
        {
          "output_type": "stream",
          "text": [
            "0x7fff2549a250\n"
          ],
          "name": "stdout"
        }
      ]
    },
    {
      "cell_type": "markdown",
      "metadata": {
        "id": "eo0mqrbOJbPb"
      },
      "source": [
        "* ### A variable can be assigned different values and data types and it will store the last value assigned"
      ]
    },
    {
      "cell_type": "code",
      "metadata": {
        "id": "GNgNOpjIJbPc",
        "colab": {
          "base_uri": "https://localhost:8080/",
          "height": 34
        },
        "outputId": "2bacd1ac-746c-4c4d-c282-f151963f239a"
      },
      "source": [
        "# Subtraction\n",
        "z = x-y\n",
        "\n",
        "# Use the in-built print function to print the variable\n",
        "print(z)"
      ],
      "execution_count": null,
      "outputs": [
        {
          "output_type": "stream",
          "text": [
            "-1.4000000000000004\n"
          ],
          "name": "stdout"
        }
      ]
    },
    {
      "cell_type": "code",
      "metadata": {
        "id": "uQWOqYjdJbPe",
        "outputId": "0b7a9c73-0cd9-4eda-d927-e0cfb6ecb8b0"
      },
      "source": [
        "# Printing the memory address the variable z occupies\n",
        "print(hex(id(z)))"
      ],
      "execution_count": null,
      "outputs": [
        {
          "output_type": "stream",
          "text": [
            "0x7fff2549a150\n"
          ],
          "name": "stdout"
        }
      ]
    },
    {
      "cell_type": "code",
      "metadata": {
        "id": "RajV71HZJbPh",
        "colab": {
          "base_uri": "https://localhost:8080/",
          "height": 34
        },
        "outputId": "cdd47eda-5299-44e9-cfb0-aa20c578a060"
      },
      "source": [
        " # Find out the data type of variable z\n",
        "type(y)"
      ],
      "execution_count": null,
      "outputs": [
        {
          "output_type": "execute_result",
          "data": {
            "text/plain": [
              "float"
            ]
          },
          "metadata": {
            "tags": []
          },
          "execution_count": 37
        }
      ]
    },
    {
      "cell_type": "code",
      "metadata": {
        "id": "WThvonSGJbPk",
        "colab": {
          "base_uri": "https://localhost:8080/",
          "height": 50
        },
        "outputId": "f358dd97-a70c-4b71-fb64-6ac6b0ee1c4e"
      },
      "source": [
        "# Multiplication\n",
        "z = x*y\n",
        "\n",
        "print(z)  # Print the variable z\n",
        "type(z)   # Get the data type of variable z"
      ],
      "execution_count": null,
      "outputs": [
        {
          "output_type": "stream",
          "text": [
            "32.0\n"
          ],
          "name": "stdout"
        },
        {
          "output_type": "execute_result",
          "data": {
            "text/plain": [
              "float"
            ]
          },
          "metadata": {
            "tags": []
          },
          "execution_count": 38
        }
      ]
    },
    {
      "cell_type": "code",
      "metadata": {
        "id": "Jz0GA8TtJbPn",
        "colab": {
          "base_uri": "https://localhost:8080/",
          "height": 50
        },
        "outputId": "0d9268a2-1c9b-4a7b-d599-9328790cd4b9"
      },
      "source": [
        "# Division\n",
        "z = x/y\n",
        "\n",
        "print(z) # Print the variable z\n",
        "type(z)  # Get the data type of variable z"
      ],
      "execution_count": null,
      "outputs": [
        {
          "output_type": "stream",
          "text": [
            "0.78125\n"
          ],
          "name": "stdout"
        },
        {
          "output_type": "execute_result",
          "data": {
            "text/plain": [
              "float"
            ]
          },
          "metadata": {
            "tags": []
          },
          "execution_count": 39
        }
      ]
    },
    {
      "cell_type": "code",
      "metadata": {
        "id": "UFPxHaByJbPp",
        "colab": {
          "base_uri": "https://localhost:8080/",
          "height": 34
        },
        "outputId": "09338790-fdfd-4288-f451-ec12deb8c43d"
      },
      "source": [
        "# Floor division\n",
        "z= x//y  #  Remember x=5, y=6.4\n",
        "print(z)"
      ],
      "execution_count": null,
      "outputs": [
        {
          "output_type": "stream",
          "text": [
            "0.0\n"
          ],
          "name": "stdout"
        }
      ]
    },
    {
      "cell_type": "markdown",
      "metadata": {
        "id": "tRtsrmQoJbPt"
      },
      "source": [
        "### Waittt! Shouldn't it be 0.75??\n",
        "* The reason we get this result is because we are using \"*floor*\" division. The <code>//</code> operator (two forward slashes) is the mathematical equivalent of doing [0.75] which returns the greatest integer less than or equal to 0.75"
      ]
    },
    {
      "cell_type": "code",
      "metadata": {
        "id": "mkmUH8cuJbPu",
        "colab": {
          "base_uri": "https://localhost:8080/",
          "height": 34
        },
        "outputId": "c642fa75-6858-4f8b-8441-f730e8cffd4e"
      },
      "source": [
        "# Modulo operator\n",
        "y=5\n",
        "x=3\n",
        "\n",
        "z = y%x       # Modulus is denoted by % sign\n",
        "print(z)"
      ],
      "execution_count": null,
      "outputs": [
        {
          "output_type": "stream",
          "text": [
            "2\n"
          ],
          "name": "stdout"
        }
      ]
    },
    {
      "cell_type": "code",
      "metadata": {
        "id": "-gOV0xtCJbPz",
        "colab": {
          "base_uri": "https://localhost:8080/",
          "height": 34
        },
        "outputId": "1f24c1f2-5780-44c7-a25f-d5fd00359728"
      },
      "source": [
        "# Using powers and exponents\n",
        "\n",
        "z = x**y    # We did not even need to store it in another variable nor use print command\n",
        "print(z)"
      ],
      "execution_count": null,
      "outputs": [
        {
          "output_type": "stream",
          "text": [
            "243\n"
          ],
          "name": "stdout"
        }
      ]
    },
    {
      "cell_type": "code",
      "source": [
        "dd=2**5\n",
        "print(dd)"
      ],
      "metadata": {
        "id": "n8ErXmJodVZm",
        "outputId": "b1dafb77-2be3-4179-d020-92b16323ba1f",
        "colab": {
          "base_uri": "https://localhost:8080/"
        }
      },
      "execution_count": 1,
      "outputs": [
        {
          "output_type": "stream",
          "name": "stdout",
          "text": [
            "32\n"
          ]
        }
      ]
    },
    {
      "cell_type": "code",
      "metadata": {
        "id": "yjojlOq0JbP1",
        "colab": {
          "base_uri": "https://localhost:8080/",
          "height": 50
        },
        "outputId": "f770430b-ccc9-4985-e0d8-616488843c6e"
      },
      "source": [
        "# BODMAS nostalgia\n",
        "some_random_operation =(x+y)/y + (y-x)*x\n",
        "\n",
        "print(some_random_operation)\n",
        "type(some_random_operation)"
      ],
      "execution_count": null,
      "outputs": [
        {
          "output_type": "stream",
          "text": [
            "7.6\n"
          ],
          "name": "stdout"
        },
        {
          "output_type": "execute_result",
          "data": {
            "text/plain": [
              "float"
            ]
          },
          "metadata": {
            "tags": []
          },
          "execution_count": 44
        }
      ]
    },
    {
      "cell_type": "code",
      "metadata": {
        "id": "6GTBsnuoJbP4",
        "colab": {
          "base_uri": "https://localhost:8080/",
          "height": 34
        },
        "outputId": "a9a6dcc5-0ee9-4c8f-af21-084c17f443d9"
      },
      "source": [
        "# Storing large integer numbers\n",
        "avogadro = 6.22E23\n",
        "\n",
        "print(avogadro)"
      ],
      "execution_count": null,
      "outputs": [
        {
          "output_type": "stream",
          "text": [
            "6.22e+23\n"
          ],
          "name": "stdout"
        }
      ]
    },
    {
      "cell_type": "code",
      "source": [
        "st = 6.3+6e6\n",
        "print(st)"
      ],
      "metadata": {
        "id": "b2wmRqCMdicI",
        "outputId": "37ff9d2b-f739-46ee-e552-67b6b97be749",
        "colab": {
          "base_uri": "https://localhost:8080/"
        }
      },
      "execution_count": 4,
      "outputs": [
        {
          "output_type": "stream",
          "name": "stdout",
          "text": [
            "6000006.3\n"
          ]
        }
      ]
    },
    {
      "cell_type": "markdown",
      "metadata": {
        "id": "rxeNuG-pJbP6"
      },
      "source": [
        "##  Rules for naming a variable in Python\n",
        "\n",
        "* Variables names must start with a letter or an underscore like _ product , product_\n",
        "\n",
        "\n",
        "* The remainder of your variable name may consist of letters, numbers and underscores\n",
        "\n",
        "\n",
        "* spacy1, pyThon,machine_learning are some valid variable names\n",
        "\n",
        "\n",
        "* Names are case sensitive.\n",
        "\n",
        "\n",
        "* case_sensitive, CASE_SENSITIVE, and Case_Sensitive are each a different variable.\n"
      ]
    },
    {
      "cell_type": "code",
      "metadata": {
        "id": "40Ov9gtSJbP7",
        "colab": {
          "base_uri": "https://localhost:8080/",
          "height": 128
        },
        "outputId": "e0c87042-7fe4-4955-d7d9-b2e044e91e28"
      },
      "source": [
        "1oNone = 4"
      ],
      "execution_count": null,
      "outputs": [
        {
          "output_type": "error",
          "ename": "SyntaxError",
          "evalue": "ignored",
          "traceback": [
            "\u001b[0;36m  File \u001b[0;32m\"<ipython-input-53-5af1d05f4ba0>\"\u001b[0;36m, line \u001b[0;32m1\u001b[0m\n\u001b[0;31m    1oNone = 4\u001b[0m\n\u001b[0m         ^\u001b[0m\n\u001b[0;31mSyntaxError\u001b[0m\u001b[0;31m:\u001b[0m invalid syntax\n"
          ]
        }
      ]
    },
    {
      "cell_type": "code",
      "source": [
        "r1=5"
      ],
      "metadata": {
        "id": "WdlBdaiJd-mW"
      },
      "execution_count": 5,
      "outputs": []
    },
    {
      "cell_type": "code",
      "source": [
        "1r = 467"
      ],
      "metadata": {
        "id": "jglhfUyUeDb4",
        "outputId": "ae11dafe-06c1-4851-8f04-a1e81afdeae5",
        "colab": {
          "base_uri": "https://localhost:8080/",
          "height": 130
        }
      },
      "execution_count": 6,
      "outputs": [
        {
          "output_type": "error",
          "ename": "SyntaxError",
          "evalue": "invalid decimal literal (<ipython-input-6-308ec4bd589c>, line 1)",
          "traceback": [
            "\u001b[0;36m  File \u001b[0;32m\"<ipython-input-6-308ec4bd589c>\"\u001b[0;36m, line \u001b[0;32m1\u001b[0m\n\u001b[0;31m    1r = 467\u001b[0m\n\u001b[0m    ^\u001b[0m\n\u001b[0;31mSyntaxError\u001b[0m\u001b[0;31m:\u001b[0m invalid decimal literal\n"
          ]
        }
      ]
    },
    {
      "cell_type": "code",
      "metadata": {
        "id": "OxnashdWfE2K"
      },
      "source": [
        "onone_abc_1 = 5"
      ],
      "execution_count": null,
      "outputs": []
    },
    {
      "cell_type": "code",
      "metadata": {
        "id": "68UBfOefgmGr"
      },
      "source": [
        "list = 5"
      ],
      "execution_count": null,
      "outputs": []
    },
    {
      "cell_type": "code",
      "metadata": {
        "id": "0DAMNZTLgp10",
        "colab": {
          "base_uri": "https://localhost:8080/",
          "height": 34
        },
        "outputId": "af43a98e-8414-41cb-8fd1-65273870923a"
      },
      "source": [
        "list"
      ],
      "execution_count": null,
      "outputs": [
        {
          "output_type": "execute_result",
          "data": {
            "text/plain": [
              "5"
            ]
          },
          "metadata": {
            "tags": []
          },
          "execution_count": 58
        }
      ]
    },
    {
      "cell_type": "markdown",
      "metadata": {
        "id": "3IqwZAzbJbP-"
      },
      "source": [
        "* Names cannot begin with a number. Python will throw an error when you try to do so\n",
        "\n",
        "\n",
        "* Names can not contain spaces, use _ instead\n",
        "\n",
        "\n",
        "* Names can not contain any of these symbols:\n",
        "\n",
        "      :'\",<>/?|\\!@#%^&*~-+\n",
        "      \n",
        "      \n",
        "* It is considered best practice that names are lowercase with underscores\n",
        "\n",
        "\n",
        "* Avoid using Python built-in keywords like `list`, `str` , `def` etc. We will talk more about such conventions later on"
      ]
    },
    {
      "cell_type": "markdown",
      "metadata": {
        "id": "1y0i15DhJbP-"
      },
      "source": [
        "# <u>Boolean Variables </u>\n",
        "\n",
        "* A Boolean variable only takes two values either True or False. It is used for comparisons"
      ]
    },
    {
      "cell_type": "markdown",
      "metadata": {
        "id": "35lrqYk2JbP-"
      },
      "source": [
        "## Comparison Operators\n",
        "\n",
        "* These operators will allow us to compare variables and output a Boolean value (True or False).\n",
        "\n",
        "\n",
        "* If you have any sort of background in Math, these operators should be very straight forward.\n",
        "\n",
        "\n",
        "* First we'll present a table of the comparison operators and then work through some examples:\n",
        "\n",
        "\n",
        "* In the table below, a=3 and b=4.\n",
        "\n",
        "<table class=\"table table-bordered\">\n",
        "<tr>\n",
        "<th style=\"width:10%\">Operator</th><th style=\"width:45%\">Description</th><th>Example</th>\n",
        "</tr>\n",
        "<tr>\n",
        "<td>==</td>\n",
        "<td>If the values of two operands are equal, then the condition becomes true.</td>\n",
        "<td> (a == b) is not true.</td>\n",
        "</tr>\n",
        "<tr>\n",
        "<td>!=</td>\n",
        "<td>If values of two operands are not equal, then condition becomes true.</td>\n",
        "<td>(a != b) is true</td>\n",
        "</tr>\n",
        "<tr>\n",
        "<td>&gt;</td>\n",
        "<td>If the value of left operand is greater than the value of right operand, then condition becomes true.</td>\n",
        "<td> (a &gt; b) is not true.</td>\n",
        "</tr>\n",
        "<tr>\n",
        "<td>&lt;</td>\n",
        "<td>If the value of left operand is less than the value of right operand, then condition becomes true.</td>\n",
        "<td> (a &lt; b) is true.</td>\n",
        "</tr>\n",
        "<tr>\n",
        "<td>&gt;=</td>\n",
        "<td>If the value of left operand is greater than or equal to the value of right operand, then condition becomes true.</td>\n",
        "<td> (a &gt;= b) is not true. </td>\n",
        "</tr>\n",
        "<tr>\n",
        "<td>&lt;=</td>\n",
        "<td>If the value of left operand is less than or equal to the value of right operand, then condition becomes true.</td>\n",
        "<td> (a &lt;= b) is true. </td>\n",
        "</tr>\n",
        "</table>"
      ]
    },
    {
      "cell_type": "markdown",
      "metadata": {
        "id": "k5qrpfOfJbP_"
      },
      "source": [
        "* Python  comes with Booleans (with predefined True and False displays that are basically just the integers 1 and 0). It also has a placeholder object called None. Let's walk through a few quick examples of Booleans (we will dive deeper into them later in this course)."
      ]
    },
    {
      "cell_type": "code",
      "metadata": {
        "id": "4HGbSLf_JbP_",
        "colab": {
          "base_uri": "https://localhost:8080/",
          "height": 34
        },
        "outputId": "7a89dfde-8359-4822-aa0d-0b58de94a3fb"
      },
      "source": [
        "# Set object to be a boolean\n",
        "boolean_variable = False\n",
        "type(boolean_variable)"
      ],
      "execution_count": null,
      "outputs": [
        {
          "output_type": "execute_result",
          "data": {
            "text/plain": [
              "bool"
            ]
          },
          "metadata": {
            "tags": []
          },
          "execution_count": 61
        }
      ]
    },
    {
      "cell_type": "code",
      "source": [
        "r = True\n",
        "type(r)"
      ],
      "metadata": {
        "id": "f9eXh3eZeSYn",
        "outputId": "12f318fb-94fb-4eed-e4dd-8bc9008fd0db",
        "colab": {
          "base_uri": "https://localhost:8080/"
        }
      },
      "execution_count": 8,
      "outputs": [
        {
          "output_type": "execute_result",
          "data": {
            "text/plain": [
              "bool"
            ]
          },
          "metadata": {},
          "execution_count": 8
        }
      ]
    },
    {
      "cell_type": "code",
      "metadata": {
        "id": "KbXp_CYVJbQC",
        "colab": {
          "base_uri": "https://localhost:8080/",
          "height": 34
        },
        "outputId": "614846fb-8f03-4232-ca17-eaabfed9bd0c"
      },
      "source": [
        "#Show\n",
        "boolean_variable"
      ],
      "execution_count": null,
      "outputs": [
        {
          "output_type": "execute_result",
          "data": {
            "text/plain": [
              "False"
            ]
          },
          "metadata": {
            "tags": []
          },
          "execution_count": 62
        }
      ]
    },
    {
      "cell_type": "markdown",
      "metadata": {
        "id": "XTNlwY9rJbQG"
      },
      "source": [
        "### Equal"
      ]
    },
    {
      "cell_type": "code",
      "metadata": {
        "id": "B2HBAmBxJbQG",
        "colab": {
          "base_uri": "https://localhost:8080/",
          "height": 34
        },
        "outputId": "12512d25-266b-4d39-9d75-119095485443"
      },
      "source": [
        "2 == 3"
      ],
      "execution_count": null,
      "outputs": [
        {
          "output_type": "execute_result",
          "data": {
            "text/plain": [
              "False"
            ]
          },
          "metadata": {
            "tags": []
          },
          "execution_count": 64
        }
      ]
    },
    {
      "cell_type": "code",
      "source": [
        "46== 4"
      ],
      "metadata": {
        "id": "8E458OBBfL9s",
        "outputId": "3a4ca3b4-e88b-4de6-8575-269a7f420215",
        "colab": {
          "base_uri": "https://localhost:8080/"
        }
      },
      "execution_count": 9,
      "outputs": [
        {
          "output_type": "execute_result",
          "data": {
            "text/plain": [
              "False"
            ]
          },
          "metadata": {},
          "execution_count": 9
        }
      ]
    },
    {
      "cell_type": "code",
      "source": [
        "46 >= 4"
      ],
      "metadata": {
        "id": "m0Jw1KcEfThb",
        "outputId": "83510361-876f-4f2a-a0af-970e2035d328",
        "colab": {
          "base_uri": "https://localhost:8080/"
        }
      },
      "execution_count": 10,
      "outputs": [
        {
          "output_type": "execute_result",
          "data": {
            "text/plain": [
              "True"
            ]
          },
          "metadata": {},
          "execution_count": 10
        }
      ]
    },
    {
      "cell_type": "code",
      "metadata": {
        "id": "St2N7ToUJbQI",
        "outputId": "79f5b573-f7e7-44b4-bf37-eb4fa25b2449"
      },
      "source": [
        "2==0"
      ],
      "execution_count": null,
      "outputs": [
        {
          "output_type": "execute_result",
          "data": {
            "text/plain": [
              "False"
            ]
          },
          "metadata": {
            "tags": []
          },
          "execution_count": 2
        }
      ]
    },
    {
      "cell_type": "markdown",
      "metadata": {
        "id": "rffDn2hzJbQM"
      },
      "source": [
        "* <u> Note that <code>==</code> is a comparison operator, while <code>=</code> is an assignment operator. </u>"
      ]
    },
    {
      "cell_type": "markdown",
      "metadata": {
        "id": "zXobe57HJbQM"
      },
      "source": [
        "### Not equal"
      ]
    },
    {
      "cell_type": "code",
      "metadata": {
        "id": "-ITcsIujJbQM",
        "colab": {
          "base_uri": "https://localhost:8080/",
          "height": 34
        },
        "outputId": "0df844ca-2da7-4ec1-8f03-6a3cab84719c"
      },
      "source": [
        "2!=0"
      ],
      "execution_count": null,
      "outputs": [
        {
          "output_type": "execute_result",
          "data": {
            "text/plain": [
              "True"
            ]
          },
          "metadata": {
            "tags": []
          },
          "execution_count": 65
        }
      ]
    },
    {
      "cell_type": "code",
      "source": [
        "4 != 6"
      ],
      "metadata": {
        "id": "4y2xNLtrfdYB",
        "outputId": "a331e1dd-eb6e-4b41-a4f4-7100cf1e0b89",
        "colab": {
          "base_uri": "https://localhost:8080/"
        }
      },
      "execution_count": 12,
      "outputs": [
        {
          "output_type": "execute_result",
          "data": {
            "text/plain": [
              "True"
            ]
          },
          "metadata": {},
          "execution_count": 12
        }
      ]
    },
    {
      "cell_type": "code",
      "metadata": {
        "id": "MeLL5zC4JbQQ",
        "colab": {
          "base_uri": "https://localhost:8080/",
          "height": 34
        },
        "outputId": "55a8bf34-c3d8-4e19-d05a-9ead63c878a4"
      },
      "source": [
        "2!=2"
      ],
      "execution_count": null,
      "outputs": [
        {
          "output_type": "execute_result",
          "data": {
            "text/plain": [
              "False"
            ]
          },
          "metadata": {
            "tags": []
          },
          "execution_count": 66
        }
      ]
    },
    {
      "cell_type": "markdown",
      "metadata": {
        "id": "JCs_Qrt-JbQS"
      },
      "source": [
        "### Greater than"
      ]
    },
    {
      "cell_type": "code",
      "metadata": {
        "scrolled": true,
        "id": "JVbaxgIDJbQS",
        "colab": {
          "base_uri": "https://localhost:8080/",
          "height": 34
        },
        "outputId": "383b0e59-8697-43cb-adf0-94233e502c80"
      },
      "source": [
        "a=3\n",
        "b=2\n",
        "a> b"
      ],
      "execution_count": null,
      "outputs": [
        {
          "output_type": "execute_result",
          "data": {
            "text/plain": [
              "True"
            ]
          },
          "metadata": {
            "tags": []
          },
          "execution_count": 67
        }
      ]
    },
    {
      "cell_type": "code",
      "source": [
        "f = 6\n",
        "h = 41\n",
        "print(f != h)\n",
        "print(f<=h,f>=h)"
      ],
      "metadata": {
        "id": "dma-qmhDfxf5",
        "outputId": "6e9c5958-e46c-45de-fade-ac0ea4ff1997",
        "colab": {
          "base_uri": "https://localhost:8080/"
        }
      },
      "execution_count": 13,
      "outputs": [
        {
          "output_type": "stream",
          "name": "stdout",
          "text": [
            "True\n",
            "True False\n"
          ]
        }
      ]
    },
    {
      "cell_type": "code",
      "metadata": {
        "id": "PZ1zdvTTJbQU",
        "colab": {
          "base_uri": "https://localhost:8080/",
          "height": 34
        },
        "outputId": "b64d6e7e-58ef-4d0a-b927-3b7857dc8f41"
      },
      "source": [
        "a == 3"
      ],
      "execution_count": null,
      "outputs": [
        {
          "output_type": "execute_result",
          "data": {
            "text/plain": [
              "True"
            ]
          },
          "metadata": {
            "tags": []
          },
          "execution_count": 68
        }
      ]
    },
    {
      "cell_type": "code",
      "metadata": {
        "id": "C6ChRkkxJbQW",
        "colab": {
          "base_uri": "https://localhost:8080/",
          "height": 34
        },
        "outputId": "dcea2dcc-3767-4644-b9e9-873a24fe1502"
      },
      "source": [
        "b > 4"
      ],
      "execution_count": null,
      "outputs": [
        {
          "output_type": "execute_result",
          "data": {
            "text/plain": [
              "False"
            ]
          },
          "metadata": {
            "tags": []
          },
          "execution_count": 69
        }
      ]
    },
    {
      "cell_type": "markdown",
      "metadata": {
        "id": "HXhCSJvBJbQY"
      },
      "source": [
        "### Less than"
      ]
    },
    {
      "cell_type": "code",
      "metadata": {
        "id": "AffaxmdTJbQY",
        "colab": {
          "base_uri": "https://localhost:8080/",
          "height": 34
        },
        "outputId": "043b79ef-32ad-4b16-edea-d8a14a1d2d0f"
      },
      "source": [
        "10 < 45"
      ],
      "execution_count": null,
      "outputs": [
        {
          "output_type": "execute_result",
          "data": {
            "text/plain": [
              "True"
            ]
          },
          "metadata": {
            "tags": []
          },
          "execution_count": 70
        }
      ]
    },
    {
      "cell_type": "code",
      "source": [
        "3<8"
      ],
      "metadata": {
        "id": "9FIGaB9HgXIq",
        "outputId": "eac8b710-82b7-4459-b568-fa69e230ce1f",
        "colab": {
          "base_uri": "https://localhost:8080/"
        }
      },
      "execution_count": 15,
      "outputs": [
        {
          "output_type": "execute_result",
          "data": {
            "text/plain": [
              "True"
            ]
          },
          "metadata": {},
          "execution_count": 15
        }
      ]
    },
    {
      "cell_type": "code",
      "metadata": {
        "id": "yX1roPJCJbQa",
        "colab": {
          "base_uri": "https://localhost:8080/",
          "height": 34
        },
        "outputId": "48be0f03-4c73-431c-ff09-42b18d9ce5fd"
      },
      "source": [
        "4 < 2"
      ],
      "execution_count": null,
      "outputs": [
        {
          "output_type": "execute_result",
          "data": {
            "text/plain": [
              "False"
            ]
          },
          "metadata": {
            "tags": []
          },
          "execution_count": 71
        }
      ]
    },
    {
      "cell_type": "markdown",
      "metadata": {
        "id": "HHQGVtfyJbQe"
      },
      "source": [
        "### Greater than or equal to"
      ]
    },
    {
      "cell_type": "code",
      "metadata": {
        "id": "_Qw-yrpRJbQe",
        "colab": {
          "base_uri": "https://localhost:8080/",
          "height": 34
        },
        "outputId": "a2d12230-f2a3-4d9b-fbdb-962a02a05d7b"
      },
      "source": [
        "3 >=2"
      ],
      "execution_count": null,
      "outputs": [
        {
          "output_type": "execute_result",
          "data": {
            "text/plain": [
              "True"
            ]
          },
          "metadata": {
            "tags": []
          },
          "execution_count": 72
        }
      ]
    },
    {
      "cell_type": "code",
      "source": [
        "4>7"
      ],
      "metadata": {
        "id": "HYf3xHzKgg3d",
        "outputId": "de24e3b8-59f0-4f45-bb5f-fb14e7d81307",
        "colab": {
          "base_uri": "https://localhost:8080/"
        }
      },
      "execution_count": 16,
      "outputs": [
        {
          "output_type": "execute_result",
          "data": {
            "text/plain": [
              "False"
            ]
          },
          "metadata": {},
          "execution_count": 16
        }
      ]
    },
    {
      "cell_type": "code",
      "metadata": {
        "id": "Cj3UpbKTJbQh",
        "colab": {
          "base_uri": "https://localhost:8080/",
          "height": 34
        },
        "outputId": "6c29f433-9153-44c0-c438-55c76ea6ce3a"
      },
      "source": [
        "4 >= 4"
      ],
      "execution_count": null,
      "outputs": [
        {
          "output_type": "execute_result",
          "data": {
            "text/plain": [
              "True"
            ]
          },
          "metadata": {
            "tags": []
          },
          "execution_count": 73
        }
      ]
    },
    {
      "cell_type": "markdown",
      "metadata": {
        "id": "9A0hrb1EJbQk"
      },
      "source": [
        "### Less than or equal to"
      ]
    },
    {
      "cell_type": "code",
      "metadata": {
        "id": "CCg2vqNOJbQl",
        "colab": {
          "base_uri": "https://localhost:8080/",
          "height": 34
        },
        "outputId": "61c13606-22c9-45f0-ff72-ab1d7e44201d"
      },
      "source": [
        "3 <= 0"
      ],
      "execution_count": null,
      "outputs": [
        {
          "output_type": "execute_result",
          "data": {
            "text/plain": [
              "False"
            ]
          },
          "metadata": {
            "tags": []
          },
          "execution_count": 74
        }
      ]
    },
    {
      "cell_type": "code",
      "metadata": {
        "id": "s9BkZBJDJbQm",
        "colab": {
          "base_uri": "https://localhost:8080/",
          "height": 34
        },
        "outputId": "d1eb734b-81a4-4c53-ff6b-66baef17283e"
      },
      "source": [
        "1 <= 2"
      ],
      "execution_count": null,
      "outputs": [
        {
          "output_type": "execute_result",
          "data": {
            "text/plain": [
              "True"
            ]
          },
          "metadata": {
            "tags": []
          },
          "execution_count": 75
        }
      ]
    },
    {
      "cell_type": "code",
      "metadata": {
        "id": "TQqmyhbIk9Ol",
        "outputId": "8295b1b9-1461-430a-c331-e3f52ff36a19",
        "colab": {
          "base_uri": "https://localhost:8080/"
        }
      },
      "source": [
        "35<=56"
      ],
      "execution_count": 17,
      "outputs": [
        {
          "output_type": "execute_result",
          "data": {
            "text/plain": [
              "True"
            ]
          },
          "metadata": {},
          "execution_count": 17
        }
      ]
    }
  ]
}