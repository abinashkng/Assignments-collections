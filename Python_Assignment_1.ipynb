{
  "nbformat": 4,
  "nbformat_minor": 0,
  "metadata": {
    "colab": {
      "private_outputs": true,
      "provenance": [],
      "authorship_tag": "ABX9TyPIeJ5OE2+xtdYZcrILJKvx",
      "include_colab_link": true
    },
    "kernelspec": {
      "name": "python3",
      "display_name": "Python 3"
    },
    "language_info": {
      "name": "python"
    }
  },
  "cells": [
    {
      "cell_type": "markdown",
      "metadata": {
        "id": "view-in-github",
        "colab_type": "text"
      },
      "source": [
        "<a href=\"https://colab.research.google.com/github/abinashkng/Assignments-collections/blob/main/Python_Assignment_1.ipynb\" target=\"_parent\"><img src=\"https://colab.research.google.com/assets/colab-badge.svg\" alt=\"Open In Colab\"/></a>"
      ]
    },
    {
      "cell_type": "markdown",
      "source": [
        "🔢 Count the Characters\n",
        "🟢 Difficulty: Easy\n",
        "\n",
        "📌 Imagine you're building a text analysis tool for a messaging app. One feature you want to add is counting how often each character appears in a given message—letters, digits, spaces, and punctuation included.\n",
        "\n",
        "🛠 Your Task:\n",
        "Write a Python program that takes a user's message and returns a dictionary where:\n",
        "\n",
        "Keys = Characters from the input\n",
        "\n",
        "Values = Their respective frequencies\n",
        "\n",
        "📥 Input:\n",
        "A string message from the user.\n",
        "\n",
        "📤 Output:\n",
        "A dictionary showing the frequency of each character.\n",
        "\n",
        "Note : The program should take a user’s message as input and output a dictionary with characters as keys and their respective frequencies as values.\n",
        "\n",
        "Example 1:\n",
        "Input:\n",
        "google.com\n",
        "\n",
        "Output:\n",
        "{'g': 2, 'o': 3, 'l': 1, 'e': 1, '.': 1, 'c': 1, 'm': 1}\n",
        "\n",
        "Explanation:\n",
        "In the string \"google.com\", ‘g’ appears 2 times, ‘o’ 3 times, ‘l’ 1 time, ‘e’ 1 time, ‘.’ 1 time, ‘c’ 1 time, and ‘m’ 1 time.\n",
        "\n",
        "Example 2:\n",
        "Input:\n",
        "AlmaBetter\n",
        "\n",
        "Output:\n",
        "{'a': 2, 'l': 1, 'm': 1, 'b': 1, 'e': 2, 't': 2, 'r': 1}\n",
        "\n",
        "Explanation:\n",
        "In the string \"AlmaBetter\", ‘a’ appears 2 times, ‘l’ 1 time, ‘m’ 1 time, ‘b’ 1 time, ‘e’ 2 times, ‘t’ 2 times, and ‘r’ 1 time.\n",
        "\n",
        "Example 3:\n",
        "Input:\n",
        "Data Scientist\n",
        "\n",
        "Output:\n",
        "{'d': 1, 'a': 2, 't': 3, ' ': 1, 's': 2, 'c': 1, 'i': 2, 'e': 1, 'n': 1}\n",
        "\n",
        "Explanation:\n",
        "In the string \"Data Scientist\", ‘D’ appears 1 time, ‘a’ 2 times, ‘t’ 3 times, space ' ' appears 1 time, ‘S’ 1 time, ‘c’ 1 time, ‘i’ 2 times, ‘e’ 1 time, and ‘n’ 1 time.\n",
        "\n"
      ],
      "metadata": {
        "id": "Kc8nB0G4tYOv"
      }
    },
    {
      "cell_type": "code",
      "execution_count": null,
      "metadata": {
        "id": "P9FF8jLFtPl9"
      },
      "outputs": [],
      "source": [
        "# Taking input from the user as a string\n",
        "input_message = str(input())\n",
        "\n",
        "dict1 = {}\n",
        "for i in input_message:\n",
        "    dict1[i.lower()] = input_message.count(i)  # Assign the count to the key 'i'\n",
        "print(dict1) # Print the dictionary\n"
      ]
    }
  ]
}