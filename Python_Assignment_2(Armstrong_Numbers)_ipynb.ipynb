{
  "nbformat": 4,
  "nbformat_minor": 0,
  "metadata": {
    "colab": {
      "private_outputs": true,
      "provenance": [],
      "authorship_tag": "ABX9TyNm3tL87uwB3cRZV8sboVyh",
      "include_colab_link": true
    },
    "kernelspec": {
      "name": "python3",
      "display_name": "Python 3"
    },
    "language_info": {
      "name": "python"
    }
  },
  "cells": [
    {
      "cell_type": "markdown",
      "metadata": {
        "id": "view-in-github",
        "colab_type": "text"
      },
      "source": [
        "<a href=\"https://colab.research.google.com/github/abinashkng/Assignments-collections/blob/main/Python_Assignment_2(Armstrong_Numbers)_ipynb.ipynb\" target=\"_parent\"><img src=\"https://colab.research.google.com/assets/colab-badge.svg\" alt=\"Open In Colab\"/></a>"
      ]
    },
    {
      "cell_type": "markdown",
      "source": [
        "### **Race for the Armstrong Award**  \n",
        "In a math competition, the **Armstrong Award** is given to the first person who identifies an **Armstrong number** from a set of numbers.  \n",
        "\n",
        "#### **What is an Armstrong Number?**  \n",
        "A number is **Armstrong** if it equals the sum of the **cubes** of its digits.  \n",
        "\n",
        "For example, **153** is an Armstrong number:  \n",
        "\\[\n",
        "1^3 + 5^3 + 3^3 = 1 + 125 + 27 = 153\n",
        "\\]  \n",
        "\n",
        "#### **Examples**  \n",
        "✅ **Input:** `153` → **Output:** `\"Number is Armstrong\"`  \n",
        "❌ **Input:** `450` → **Output:** `\"Number is not Armstrong\"`  \n",
        "✅ **Input:** `9474` → **Output:** `\"Number is Armstrong\"`  \n",
        "\n",
        "The goal is to write a Python program to check if a number is Armstrong."
      ],
      "metadata": {
        "id": "g3XT8trqIq47"
      }
    },
    {
      "cell_type": "code",
      "execution_count": null,
      "metadata": {
        "id": "GkoBP34rIiRe"
      },
      "outputs": [],
      "source": [
        "# Input the number\n",
        "n = int(input())\n",
        "\n",
        "# Convert the number to a string\n",
        "n_str = str(n)\n",
        "\n",
        "# Calculate the Armstrong sum\n",
        "result = sum(int(digit) ** 3 for digit in n_str)\n",
        "\n",
        "# Check if it's an Armstrong number\n",
        "if result == n:\n",
        "    print(\"Number is Armstrong\")\n",
        "else:\n",
        "    print(\"Number is not Armstrong\")\n",
        "\n"
      ]
    }
  ]
}